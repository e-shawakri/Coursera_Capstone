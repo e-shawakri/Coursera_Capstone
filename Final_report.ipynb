{
 "cells": [
  {
   "cell_type": "markdown",
   "metadata": {},
   "source": [
    "# Final Report"
   ]
  },
  {
   "cell_type": "markdown",
   "metadata": {},
   "source": [
    "## Sections:\n",
    "\n",
    "__1. Introduction__ <br>\n",
    "__2. Data Description__ <br>\n",
    "__3. Methodology__ <br>\n",
    "__4. Results__ <br>\n",
    "__5. Discussions__ <br>\n",
    "__6. Conclusion__ <br>\n"
   ]
  },
  {
   "cell_type": "markdown",
   "metadata": {},
   "source": [
    "## Introduction\n",
    "__Segmentation and clustring universities in Toronto, Canada city, using <a haref=\"https://developer.foursquare.com/\">Foursquare API</a> to explore the neighborhoods in Toronto, Canada. and then use grouping these universites into clusters using the _K-means_ clustring algorothim. What are the most dominant universities in each neighborhood in Toronto? this is the main question for this project.__ "
   ]
  },
  {
   "cell_type": "markdown",
   "metadata": {},
   "source": [
    "## Data Description\n",
    "### Toronto Location Dataset <br>\n",
    "__The dataset is scraped from wikipidia via this <a haref=\"https://en.wikipedia.org/wiki/List_of_postal_codes_of_Canada:_M\">link</a>. Then the dataset cleaned by merging similer rows and deleting NaN rows, then saved as CSV file. The notebook for scraping and cleaning is available <a haref=\"https://github.com/e-shawakri/Coursera_Capstone/blob/master/Wiki_Postal_Scrapping.ipynb\">here</a>.\n",
    "The final CSV File will have the following features:__ <br>\n",
    "\n",
    "__Postal Code<br>\n",
    "Borough<br>\n",
    "Neighborhood<br>\n",
    "Latitude<br>\n",
    "Longitude__<br>"
   ]
  },
  {
   "cell_type": "markdown",
   "metadata": {},
   "source": [
    "## Methodology\n",
    "\n",
    "__This project follows the following Methodology:__ <br>\n",
    "\n",
    "__- Collecting the data__<br>\n",
    "__- Cleaning the data__<br>\n",
    "__- Visualization__<br>\n",
    "__- Machine Learning__<br>\n",
    "\n",
    "__Step 1: Collecting Data\n",
    "The datasets used in this project are collected from one main source namely, Wikipedia. Please refer to the Data Description section for more information about the data.\n",
    "The Foursquare data, will be added within the notebook and no external file will be created for it. The API calls will be made within the code cell. Once the necessary data is collected, cleaning the data is done.__\n",
    "\n",
    "__Step 2: Cleaning Data\n",
    "This step consumes a lot of time. The cleaning of data in this project is done for the Toronto Datasets by deleting Nan values for Borough feature, merging the similar postal codes and if there is any NaN vlaues in the neighboorhood feature we make it similiat to Borough feature. Check the data section for the notebook for scrraping and cleaning.__\n",
    "\n",
    "__Step 3: Visualization\n",
    "A few simple visualizations are made in order to get a better understanding of the data. _Folium_ is used for this purpose. Folium generates interactive and beautiful maps, using the Latitude and Longitude we provide. \n",
    "Further to enhance the understanding of the data, count plots are used to better understand the final result.__\n",
    "\n",
    "__Step 4: Machine Learning\n",
    "_KMeans_ clustering algorithm is used on the most common venues dataframe to identify the probable clusters for different types of restaurants. In both the datasets, we have initialized 5 clusters.__\n",
    "\n"
   ]
  },
  {
   "cell_type": "markdown",
   "metadata": {},
   "source": [
    "## Results\n",
    "\n",
    "__1- In Central Toronto, 1st Most Common Venue we have 'University' as top. But what kind of cuisine they serve is unknown, which is a discrepancy. It shares top with Vietnamese Restaurant. For 2nd Most Common Venue, is 'Office'.__<br>\n",
    "\n",
    "__2- In West Toronto, 1st Most Common Venue we have 'University' as top. But what kind of cuisine they serve is unknown, which is a discrepancy. It shares top with Vietnamese Restaurant. For 2nd Most Common Venue, is 'Office'.__<br>\n",
    "\n",
    "__3- In Downtown Toronto, 1st Most Common Venue we have 'University' as top. But what kind of cuisine they serve is unknown, which is a discrepancy. It shares top with Vietnamese Restaurant. For 2nd Most Common Venue, is 'College Academic Building'.__<br>\n"
   ]
  },
  {
   "cell_type": "markdown",
   "metadata": {},
   "source": [
    "## Conclusion\n",
    "\n",
    "__Hence, this project serves as a reference to identify the cluster the universites in Toronto, Canada This project can be extended to include not only the data related to universites but also other aspects like bicycle roads locations, red light cameras venues, etc.__\n",
    "\n"
   ]
  },
  {
   "cell_type": "code",
   "execution_count": null,
   "metadata": {},
   "outputs": [],
   "source": []
  }
 ],
 "metadata": {
  "kernelspec": {
   "display_name": "Python 3",
   "language": "python",
   "name": "python3"
  },
  "language_info": {
   "codemirror_mode": {
    "name": "ipython",
    "version": 3
   },
   "file_extension": ".py",
   "mimetype": "text/x-python",
   "name": "python",
   "nbconvert_exporter": "python",
   "pygments_lexer": "ipython3",
   "version": "3.7.5"
  }
 },
 "nbformat": 4,
 "nbformat_minor": 2
}
