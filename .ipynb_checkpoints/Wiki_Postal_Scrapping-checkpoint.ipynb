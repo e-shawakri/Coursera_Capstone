{
 "cells": [
  {
   "cell_type": "code",
   "execution_count": 13,
   "metadata": {},
   "outputs": [],
   "source": [
    "# !pip3 install beautifulsoup4\n",
    "# !pip3 install requests\n",
    "# !pip3 install lxml"
   ]
  },
  {
   "cell_type": "code",
   "execution_count": 79,
   "metadata": {},
   "outputs": [],
   "source": [
    "from bs4 import BeautifulSoup as bs\n",
    "from bs4 import NavigableString\n",
    "import pandas as pd\n",
    "import requests"
   ]
  },
  {
   "cell_type": "code",
   "execution_count": 133,
   "metadata": {},
   "outputs": [],
   "source": [
    "url = \"https://en.wikipedia.org/wiki/List_of_postal_codes_of_Canada:_M\"\n",
    "source = requests.get(url).text\n",
    "soup = bs(source, \"lxml\")\n",
    "tbl = soup.find('table', class_='wikitable sortable')\n",
    "col_name = tbl.find_all('th')\n",
    "\n",
    "headers = []\n",
    "for header in col_name:\n",
    "    headers.append(header.text.strip('\\n'))\n",
    "\n",
    "all_rows = tbl.find_all('tr')[1:]\n",
    "\n",
    "rows = []\n",
    "for tr in all_rows:\n",
    "    td = tr.find_all('td')\n",
    "    rows.append([tr.text.strip('\\n') for tr in td])\n",
    "    "
   ]
  },
  {
   "cell_type": "code",
   "execution_count": 177,
   "metadata": {},
   "outputs": [
    {
     "data": {
      "text/plain": [
       "(103, 3)"
      ]
     },
     "execution_count": 177,
     "metadata": {},
     "output_type": "execute_result"
    }
   ],
   "source": [
    "postal_code_df = pd.DataFrame(rows, columns = headers)\n",
    "\n",
    "# Deleting rows with Borough Not Assigned\n",
    "postal_code_df.drop(postal_code_df[postal_code_df.Borough == 'Not assigned'].index, \n",
    "                    axis = 0, inplace = True)\n",
    "\n",
    "# Merging Similer Rows\n",
    "postal_code_df = postal_code_df.groupby(['Postcode', 'Borough'])['Neighbourhood'].apply(', '.join).reset_index()\n",
    "\n",
    "# Cleaning th Not Assigned in Neighbourhood Column\n",
    "postal_code_df.loc[postal_code_df.Neighbourhood == 'Not assigned', 'Neighbourhood'] = postal_code_df.Borough\n",
    "\n",
    "postal_code_df.to_csv('canada_postals.csv')\n",
    "postal_code_df.shape"
   ]
  },
  {
   "cell_type": "code",
   "execution_count": null,
   "metadata": {},
   "outputs": [],
   "source": []
  }
 ],
 "metadata": {
  "kernelspec": {
   "display_name": "Python 3",
   "language": "python",
   "name": "python3"
  },
  "language_info": {
   "codemirror_mode": {
    "name": "ipython",
    "version": 3
   },
   "file_extension": ".py",
   "mimetype": "text/x-python",
   "name": "python",
   "nbconvert_exporter": "python",
   "pygments_lexer": "ipython3",
   "version": "3.7.5"
  }
 },
 "nbformat": 4,
 "nbformat_minor": 2
}
